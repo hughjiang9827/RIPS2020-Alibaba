{
 "cells": [
  {
   "cell_type": "code",
   "execution_count": 1,
   "metadata": {},
   "outputs": [],
   "source": [
    "from solver import *\n",
    "from sim_data import *"
   ]
  },
  {
   "cell_type": "code",
   "execution_count": 2,
   "metadata": {},
   "outputs": [],
   "source": [
    "def plot_util(all_lists, x, name, label_list):\n",
    "    plt.figure()\n",
    "    plt.xlabel('size of n')\n",
    "    plt.ylabel(\"time\")\n",
    "    plt.title(name)\n",
    "\n",
    "    for i in range(len(all_lists)):\n",
    "        # TODO: check\n",
    "        y = all_lists[i]\n",
    "        plt.plot(x, y, label=label_list[i])\n",
    "    plt.legend()\n",
    "    plt.tight_layout()\n",
    "    plt.show()"
   ]
  },
  {
   "cell_type": "code",
   "execution_count": 7,
   "metadata": {
    "scrolled": true
   },
   "outputs": [
    {
     "name": "stdout",
     "output_type": "stream",
     "text": [
      "--------\n",
      "size = 10\n",
      "status: optimal, optimal value: -523.0081048676301\n",
      "status: optimal, optimal value: -523.0081048676301\n",
      "0/2000.0\n",
      "Warning: maxit reached ADMM\n",
      "-523.2921815746953\n",
      "status: optimal, optimal value: -555.9843650723608\n",
      "status: optimal, optimal value: -555.9843650723608\n",
      "0/2000.0\n",
      "-555.9692273927637\n",
      "status: optimal, optimal value: -526.9951786066938\n",
      "status: optimal, optimal value: -526.9951786066938\n",
      "0/2000.0\n",
      "-526.9951787190544\n",
      "status: optimal, optimal value: -574.2008966410725\n",
      "status: optimal, optimal value: -574.2008966410725\n",
      "0/2000.0\n",
      "Warning: maxit reached ADMM\n",
      "-584.0470221207693\n",
      "status: optimal, optimal value: -555.9843650723608\n",
      "status: optimal, optimal value: -555.9843650723608\n",
      "0/2000.0\n",
      "-555.9692273927637\n",
      "--------\n",
      "size = 100\n",
      "status: optimal, optimal value: -4885.463057832918\n",
      "status: optimal, optimal value: -4885.463057832918\n",
      "0/20000.0\n",
      "-4885.366065208545\n",
      "status: optimal, optimal value: -4961.786999725926\n",
      "status: optimal, optimal value: -4961.786999725926\n",
      "0/20000.0\n",
      "-4960.039962565314\n",
      "status: optimal, optimal value: -5374.12098470353\n",
      "status: optimal, optimal value: -5374.12098470353\n",
      "0/20000.0\n",
      "-5370.464932614667\n",
      "status: optimal, optimal value: -5071.867158385181\n",
      "status: optimal, optimal value: -5071.867158385181\n",
      "0/20000.0\n",
      "10000/20000.0\n",
      "-5069.237043133609\n",
      "status: optimal, optimal value: -4800.09724545216\n",
      "status: optimal, optimal value: -4800.09724545216\n",
      "0/20000.0\n",
      "-4796.174195508793\n",
      "--------\n",
      "size = 200\n",
      "status: optimal, optimal value: -10415.652702908968\n",
      "status: optimal, optimal value: -10415.652702908968\n",
      "0/40000.0\n",
      "10000/40000.0\n",
      "-10414.45634205055\n",
      "status: optimal, optimal value: -10483.142260070685\n",
      "status: optimal, optimal value: -10483.142260070685\n",
      "0/40000.0\n",
      "-10482.730809698183\n",
      "status: optimal, optimal value: -10487.587728816083\n",
      "status: optimal, optimal value: -10487.587728816083\n",
      "0/40000.0\n",
      "-10485.989018603907\n",
      "status: optimal, optimal value: -9907.91213380382\n",
      "status: optimal, optimal value: -9907.91213380382\n",
      "0/40000.0\n",
      "-9904.575035782673\n",
      "status: optimal, optimal value: -10152.621053511904\n",
      "status: optimal, optimal value: -10152.621053511904\n",
      "0/40000.0\n",
      "-10151.444869337975\n",
      "--------\n",
      "size = 400\n",
      "status: optimal, optimal value: -20114.75678213761\n",
      "status: optimal, optimal value: -20114.75678213761\n",
      "0/80000.0\n",
      "-20103.97297440314\n",
      "status: optimal, optimal value: -19740.59209213838\n",
      "status: optimal, optimal value: -19740.59209213838\n",
      "0/80000.0\n",
      "10000/80000.0\n",
      "20000/80000.0\n",
      "30000/80000.0\n",
      "40000/80000.0\n",
      "50000/80000.0\n",
      "60000/80000.0\n",
      "70000/80000.0\n",
      "Warning: maxit reached ADMM\n",
      "-19742.36278420046\n",
      "status: optimal, optimal value: -21171.28264492083\n",
      "status: optimal, optimal value: -21171.28264492083\n",
      "0/80000.0\n",
      "-21170.784491669183\n",
      "status: optimal, optimal value: -19892.411473710858\n",
      "status: optimal, optimal value: -19892.411473710858\n",
      "0/80000.0\n",
      "-19873.407533104328\n",
      "status: optimal, optimal value: -20650.375668708355\n",
      "status: optimal, optimal value: -20650.375668708355\n",
      "0/80000.0\n",
      "-20643.98769058657\n",
      "--------\n",
      "size = 600\n",
      "status: optimal, optimal value: -28661.350197188593\n",
      "status: optimal, optimal value: -28661.350197188593\n",
      "0/120000.0\n",
      "-28635.637754691907\n",
      "status: optimal, optimal value: -30479.486148791664\n",
      "status: optimal, optimal value: -30479.486148791664\n",
      "0/120000.0\n",
      "-30455.003895460308\n",
      "status: optimal, optimal value: -29740.917431281723\n",
      "status: optimal, optimal value: -29740.917431281723\n",
      "0/120000.0\n",
      "-29728.57957043778\n",
      "status: optimal, optimal value: -31941.503708385688\n",
      "status: optimal, optimal value: -31941.503708385688\n",
      "0/120000.0\n",
      "-31938.372047402525\n",
      "status: optimal, optimal value: -31509.828367034577\n",
      "status: optimal, optimal value: -31509.828367034577\n",
      "0/120000.0\n",
      "-31489.871851371383\n",
      "--------\n",
      "size = 800\n",
      "status: optimal, optimal value: -38664.56845814528\n",
      "status: optimal, optimal value: -38664.56845814528\n",
      "0/160000.0\n",
      "-38657.19494076844\n",
      "status: optimal, optimal value: -42172.08575330879\n",
      "status: optimal, optimal value: -42172.08575330879\n",
      "0/160000.0\n",
      "-42164.366180037185\n",
      "status: optimal, optimal value: -40127.62496591349\n",
      "status: optimal, optimal value: -40127.62496591349\n",
      "0/160000.0\n",
      "-40102.61191965836\n",
      "status: optimal, optimal value: -40127.62496591349\n",
      "status: optimal, optimal value: -40127.62496591349\n",
      "0/160000.0\n",
      "-40102.61191965836\n",
      "status: optimal, optimal value: -40127.62496591349\n",
      "status: optimal, optimal value: -40127.62496591349\n",
      "0/160000.0\n",
      "-40102.61191965836\n",
      "--------\n",
      "size = 1000\n",
      "status: optimal, optimal value: -49431.34614132513\n",
      "status: optimal, optimal value: -49431.34614132513\n",
      "0/200000.0\n",
      "-49408.43228828651\n",
      "status: optimal, optimal value: -49575.17271691725\n",
      "status: optimal, optimal value: -49575.17271691725\n",
      "0/200000.0\n",
      "-49554.4658891273\n",
      "status: optimal, optimal value: -49575.17271691725\n",
      "status: optimal, optimal value: -49575.17271691725\n",
      "0/200000.0\n",
      "-49554.4658891273\n",
      "status: optimal, optimal value: -49575.17271691725\n",
      "status: optimal, optimal value: -49575.17271691725\n",
      "0/200000.0\n",
      "-49554.4658891273\n",
      "status: optimal, optimal value: -49575.17271691725\n",
      "status: optimal, optimal value: -49575.17271691725\n",
      "0/200000.0\n",
      "-49554.4658891273\n",
      "--------\n",
      "size = 1200\n",
      "status: optimal, optimal value: -60672.55009095513\n",
      "status: optimal, optimal value: -60672.55009095513\n",
      "0/240000.0\n",
      "-60639.90570446576\n",
      "status: optimal, optimal value: -62032.99800567797\n",
      "status: optimal, optimal value: -62032.99800567797\n",
      "0/240000.0\n",
      "-62002.95374450214\n",
      "status: optimal, optimal value: -58647.01330116793\n",
      "status: optimal, optimal value: -58647.01330116793\n",
      "0/240000.0\n",
      "10000/240000.0\n",
      "20000/240000.0\n",
      "30000/240000.0\n",
      "40000/240000.0\n",
      "50000/240000.0\n",
      "60000/240000.0\n",
      "70000/240000.0\n",
      "80000/240000.0\n",
      "90000/240000.0\n",
      "100000/240000.0\n",
      "110000/240000.0\n",
      "120000/240000.0\n",
      "130000/240000.0\n",
      "140000/240000.0\n",
      "150000/240000.0\n",
      "160000/240000.0\n",
      "170000/240000.0\n",
      "180000/240000.0\n",
      "190000/240000.0\n",
      "200000/240000.0\n",
      "210000/240000.0\n",
      "220000/240000.0\n",
      "230000/240000.0\n",
      "Warning: maxit reached ADMM\n",
      "-63294.52606822708\n",
      "status: optimal, optimal value: -63157.120839486786\n",
      "status: optimal, optimal value: -63157.120839486786\n",
      "0/240000.0\n",
      "-63127.344514261065\n",
      "status: optimal, optimal value: -58647.01330116793\n",
      "status: optimal, optimal value: -58647.01330116793\n",
      "0/240000.0\n",
      "10000/240000.0\n",
      "20000/240000.0\n",
      "30000/240000.0\n",
      "40000/240000.0\n",
      "50000/240000.0\n",
      "60000/240000.0\n",
      "70000/240000.0\n",
      "80000/240000.0\n",
      "90000/240000.0\n",
      "100000/240000.0\n",
      "110000/240000.0\n",
      "120000/240000.0\n",
      "130000/240000.0\n",
      "140000/240000.0\n",
      "150000/240000.0\n",
      "160000/240000.0\n",
      "170000/240000.0\n",
      "180000/240000.0\n",
      "190000/240000.0\n",
      "200000/240000.0\n",
      "210000/240000.0\n",
      "220000/240000.0\n",
      "230000/240000.0\n",
      "Warning: maxit reached ADMM\n",
      "-63294.52606822708\n",
      "--------\n",
      "size = 1400\n",
      "status: optimal, optimal value: -70520.88696448141\n",
      "status: optimal, optimal value: -70520.88696448141\n",
      "0/280000.0\n",
      "10000/280000.0\n",
      "-70465.72037571867\n",
      "status: optimal, optimal value: -70383.24467140951\n",
      "status: optimal, optimal value: -70383.24467140951\n",
      "0/280000.0\n",
      "-70362.59022174655\n",
      "status: optimal, optimal value: -71244.41661618276\n",
      "status: optimal, optimal value: -71244.41661618276\n",
      "0/280000.0\n",
      "-71223.0839554207\n",
      "status: optimal, optimal value: -70402.21586243225\n",
      "status: optimal, optimal value: -70402.21586243225\n",
      "0/280000.0\n",
      "10000/280000.0\n",
      "20000/280000.0\n",
      "-70362.78259065055\n",
      "status: optimal, optimal value: -67952.66644050751\n",
      "status: optimal, optimal value: -67952.66644050751\n",
      "0/280000.0\n",
      "10000/280000.0\n",
      "-67912.08854858915\n",
      "--------\n",
      "size = 1600\n",
      "status: optimal, optimal value: -84722.2885734348\n",
      "status: optimal, optimal value: -84722.2885734348\n",
      "0/320000.0\n",
      "-84704.71230951458\n",
      "status: optimal, optimal value: -85160.6429091464\n",
      "status: optimal, optimal value: -85160.6429091464\n",
      "0/320000.0\n",
      "-85146.55312545701\n",
      "status: optimal, optimal value: -85160.6429091464\n",
      "status: optimal, optimal value: -85160.6429091464\n",
      "0/320000.0\n",
      "-85146.55312545701\n",
      "status: optimal, optimal value: -85160.6429091464\n",
      "status: optimal, optimal value: -85160.6429091464\n",
      "0/320000.0\n",
      "-85146.55312545701\n",
      "status: optimal, optimal value: -85160.6429091464\n",
      "status: optimal, optimal value: -85160.6429091464\n",
      "0/320000.0\n",
      "-85146.55312545701\n"
     ]
    }
   ],
   "source": [
    "n_range = [10, 100] + [i for i in range(200, 1800, 200)]\n",
    "# n_range = [10]\n",
    "default_time_list, IAAL_time_list, ADMM_time_list = sim_multi(n_range, maxit=200, alpha=1e-4, tol=1e-3, seed=42, \n",
    "                                                              num_avg=5)"
   ]
  },
  {
   "cell_type": "code",
   "execution_count": 8,
   "metadata": {},
   "outputs": [
    {
     "data": {
      "text/plain": [
       "([0.015424776077270507,\n",
       "  0.12391448020935059,\n",
       "  0.42435460090637206,\n",
       "  0.944363784790039,\n",
       "  1.8252589225769043,\n",
       "  3.594857931137085,\n",
       "  5.746326875686646,\n",
       "  8.255272388458252,\n",
       "  13.348993301391602,\n",
       "  20.15464653968811],\n",
       " [],\n",
       " [0.3398937225341797,\n",
       "  2.172087812423706,\n",
       "  2.025699806213379,\n",
       "  0.7840696573257446,\n",
       "  1.0519804000854491,\n",
       "  1.6935673713684083,\n",
       "  2.1003701210021974,\n",
       "  1.5313533147176106,\n",
       "  4.4498039245605465,\n",
       "  1.3887039184570313])"
      ]
     },
     "execution_count": 8,
     "metadata": {},
     "output_type": "execute_result"
    }
   ],
   "source": [
    "default_time_list, IAAL_time_list, ADMM_time_list"
   ]
  },
  {
   "cell_type": "code",
   "execution_count": 9,
   "metadata": {},
   "outputs": [
    {
     "data": {
      "image/png": "[encoded data removed]",
      "text/plain": [
       "<matplotlib.figure.Figure at 0x115a9acc0>"
      ]
     },
     "metadata": {
      "needs_background": "light"
     },
     "output_type": "display_data"
    }
   ],
   "source": [
    "all_lists = [default_time_list, ADMM_time_list]\n",
    "x = n_range\n",
    "name = \"Runtime for different methods\"\n",
    "label_list = [\"cvxpy\", \"ADMM\"]\n",
    "plot_util(all_lists, x, name, label_list)"
   ]
  },
  {
   "cell_type": "code",
   "execution_count": 3,
   "metadata": {
    "scrolled": true
   },
   "outputs": [
    {
     "data": {
      "text/plain": [
       "([0.01665778160095215,\n",
       "  0.13747682571411132,\n",
       "  0.2997716426849365,\n",
       "  1.0830878257751464,\n",
       "  2.059067726135254,\n",
       "  3.8510679721832277,\n",
       "  5.826599645614624,\n",
       "  8.225278234481811,\n",
       "  14.136742544174194,\n",
       "  20.712745046615602],\n",
       " [0.27231392860412595,\n",
       "  5.017393398284912,\n",
       "  11.668120193481446,\n",
       "  26.66370234489441,\n",
       "  35.449979639053346,\n",
       "  48.912220525741574,\n",
       "  58.95455503463745,\n",
       "  68.73302416801452,\n",
       "  87.96985960006714,\n",
       "  106.08670024871826],\n",
       " [0.3883089542388916,\n",
       "  2.106606149673462,\n",
       "  1.680257511138916,\n",
       "  6.990504932403565,\n",
       "  1.2905801773071288,\n",
       "  1.703009843826294,\n",
       "  2.3210657596588136,\n",
       "  28.714737701416016,\n",
       "  4.701895904541016,\n",
       "  1.509003210067749])"
      ]
     },
     "execution_count": 3,
     "metadata": {},
     "output_type": "execute_result"
    }
   ],
   "source": [
    "default_time_list, IAAL_time_list, ADMM_time_list"
   ]
  },
  {
   "cell_type": "code",
   "execution_count": 9,
   "metadata": {},
   "outputs": [
    {
     "data": {
      "image/png": "[encoded data removed]",
      "text/plain": [
       "<matplotlib.figure.Figure at 0x11d42a828>"
      ]
     },
     "metadata": {
      "needs_background": "light"
     },
     "output_type": "display_data"
    }
   ],
   "source": [
    "all_lists = [default_time_list, ADMM_time_list]\n",
    "x = n_range\n",
    "name = \"Runtime for different methods\"\n",
    "label_list = [\"cvxpy\", \"ADMM\"]\n",
    "plot_util(all_lists, x, name, label_list)"
   ]
  },
  {
   "cell_type": "code",
   "execution_count": 13,
   "metadata": {},
   "outputs": [],
   "source": [
    "def sim_once(n, maxit=1000, alpha=1e-4, strategy=\"IAAL\", is_cyc=False,\n",
    "\ttol=1e-3, use_seed=True, \n",
    "\tc=[], M=[], A=[], d=[], b=[], \n",
    "\targmin_x=None, lambda_star=None, optimal_obj=None):\n",
    "\t# TODO: default values except n\n",
    "\tif optimal_obj == None:\n",
    "\t\tc, M, A, d, b = sim_data(n, use_seed=use_seed)\n",
    "\t\targmin_x, lambda_star, optimal_obj = primal_dual_solver(-c, M, A, d, b)\n",
    "\n",
    "\tif strategy == \"IAAL\":\n",
    "\t\tdecay = True\n",
    "\t\tascent_type = \"full\"\n",
    "\telif strategy == \"ADMM\":\n",
    "\t\tdecay = False\n",
    "\t\tascent_type = \"vr\"\n",
    "\tprimal_err_list = []\n",
    "\tlambd_list = [] \n",
    "\tlambda_err_list = []\n",
    "\tduality_gap_list = []\n",
    "\n",
    "\ts_time = time.time()\n",
    "\tif strategy == \"default\":\n",
    "\t\t# rs = general_basic_solver(-c, M, A, d, b)\n",
    "\t\trs = primal_dual_solver(-c, M, A, d, b)[0]\n",
    "\telse:\n",
    "\t\trs = general_st_sampling_solver(c, M, A, d, b, epoch=maxit, batch_size=1, alpha=alpha,\n",
    "\t                               decay=decay, decay_func=sqrt_decay,\n",
    "\t                               augmented=True, rho=1, prox_type=strategy,\n",
    "\t                               ascent_type=ascent_type, vr_m_order=2,\n",
    "\t                               err_list=primal_err_list, lambd_list=lambd_list, time_hist=[], \n",
    "\t                               lambda_err_list=lambda_err_list, duality_gap_list=duality_gap_list,\n",
    "\t                               is_rep=False, is_cyc=is_cyc,\n",
    "\t                               answer=[], tol=tol, \n",
    "\t                               optimal_obj=optimal_obj, lambda_star=lambda_star)\n",
    "\te_time = time.time()\n",
    "\ttotal_time = e_time - s_time\n",
    "\n",
    "\treturn primal_err_list, lambda_err_list, duality_gap_list, total_time"
   ]
  },
  {
   "cell_type": "code",
   "execution_count": 16,
   "metadata": {
    "scrolled": true
   },
   "outputs": [
    {
     "name": "stdout",
     "output_type": "stream",
     "text": [
      "status: optimal, optimal value: -49292.207107918264\n",
      "0/1000000.0\n",
      "10000/1000000.0\n",
      "20000/1000000.0\n",
      "30000/1000000.0\n",
      "40000/1000000.0\n",
      "50000/1000000.0\n",
      "60000/1000000.0\n",
      "70000/1000000.0\n",
      "80000/1000000.0\n",
      "90000/1000000.0\n",
      "100000/1000000.0\n"
     ]
    },
    {
     "ename": "KeyboardInterrupt",
     "evalue": "",
     "output_type": "error",
     "traceback": [
      "\u001b[0;31m---------------------------------------------------------------------------\u001b[0m",
      "\u001b[0;31mKeyboardInterrupt\u001b[0m                         Traceback (most recent call last)",
      "\u001b[0;32m<ipython-input-16-1899752eb542>\u001b[0m in \u001b[0;36m<module>\u001b[0;34m\u001b[0m\n\u001b[1;32m      1\u001b[0m primal_err_list, lambda_err_list, duality_gap_list, total_time = sim_once(1000, alpha=1e-5, strategy=\"IAAL\", \n\u001b[0;32m----> 2\u001b[0;31m                                                                           tol=3e-3)\n\u001b[0m",
      "\u001b[0;32m<ipython-input-13-1fd19d4d2dac>\u001b[0m in \u001b[0;36msim_once\u001b[0;34m(n, maxit, alpha, strategy, is_cyc, tol, use_seed, c, M, A, d, b, argmin_x, lambda_star, optimal_obj)\u001b[0m\n\u001b[1;32m     32\u001b[0m                                        \u001b[0mis_rep\u001b[0m\u001b[0;34m=\u001b[0m\u001b[0;32mFalse\u001b[0m\u001b[0;34m,\u001b[0m \u001b[0mis_cyc\u001b[0m\u001b[0;34m=\u001b[0m\u001b[0mis_cyc\u001b[0m\u001b[0;34m,\u001b[0m\u001b[0;34m\u001b[0m\u001b[0m\n\u001b[1;32m     33\u001b[0m                                        \u001b[0manswer\u001b[0m\u001b[0;34m=\u001b[0m\u001b[0;34m[\u001b[0m\u001b[0;34m]\u001b[0m\u001b[0;34m,\u001b[0m \u001b[0mtol\u001b[0m\u001b[0;34m=\u001b[0m\u001b[0mtol\u001b[0m\u001b[0;34m,\u001b[0m\u001b[0;34m\u001b[0m\u001b[0m\n\u001b[0;32m---> 34\u001b[0;31m \t                               optimal_obj=optimal_obj, lambda_star=lambda_star)\n\u001b[0m\u001b[1;32m     35\u001b[0m         \u001b[0me_time\u001b[0m \u001b[0;34m=\u001b[0m \u001b[0mtime\u001b[0m\u001b[0;34m.\u001b[0m\u001b[0mtime\u001b[0m\u001b[0;34m(\u001b[0m\u001b[0;34m)\u001b[0m\u001b[0;34m\u001b[0m\u001b[0m\n\u001b[1;32m     36\u001b[0m         \u001b[0mtotal_time\u001b[0m \u001b[0;34m=\u001b[0m \u001b[0me_time\u001b[0m \u001b[0;34m-\u001b[0m \u001b[0ms_time\u001b[0m\u001b[0;34m\u001b[0m\u001b[0m\n",
      "\u001b[0;32m~/rips/solver.py\u001b[0m in \u001b[0;36mgeneral_st_sampling_solver\u001b[0;34m(c, M, A, d, b, epoch, batch_size, alpha, decay, decay_func, augmented, rho, prox_type, ascent_type, vr_m_order, err_list, lambd_list, time_hist, lambda_err_list, duality_gap_list, is_rep, is_cyc, answer, tol, optimal_obj, lambda_star)\u001b[0m\n\u001b[1;32m    211\u001b[0m                                                       \u001b[0;31m# TODO: check,\u001b[0m\u001b[0;34m\u001b[0m\u001b[0;34m\u001b[0m\u001b[0m\n\u001b[1;32m    212\u001b[0m                                                       \u001b[0mw\u001b[0m\u001b[0;34m,\u001b[0m\u001b[0;34m\u001b[0m\u001b[0m\n\u001b[0;32m--> 213\u001b[0;31m                                                       rho=decayed_alpha)\n\u001b[0m\u001b[1;32m    214\u001b[0m \u001b[0;34m\u001b[0m\u001b[0m\n\u001b[1;32m    215\u001b[0m             \u001b[0;31m# update cache\u001b[0m\u001b[0;34m\u001b[0m\u001b[0;34m\u001b[0m\u001b[0m\n",
      "\u001b[0;32m~/rips/solver.py\u001b[0m in \u001b[0;36mgeneral_sub_problem_solver\u001b[0;34m(c, M, A, d, b, sub_indices, lambd, augmented, dot_cache, w, rho)\u001b[0m\n\u001b[1;32m    104\u001b[0m \u001b[0;34m\u001b[0m\u001b[0m\n\u001b[1;32m    105\u001b[0m     argmin_x_sub = general_basic_solver(c_sub, M, A_sub, d, b_sub, is_coupled=False,\n\u001b[0;32m--> 106\u001b[0;31m                                         augmented=augmented, P=P_sub)\n\u001b[0m\u001b[1;32m    107\u001b[0m \u001b[0;34m\u001b[0m\u001b[0m\n\u001b[1;32m    108\u001b[0m     \u001b[0;32mreturn\u001b[0m \u001b[0margmin_x_sub\u001b[0m\u001b[0;34m\u001b[0m\u001b[0m\n",
      "\u001b[0;32m~/rips/solver.py\u001b[0m in \u001b[0;36mgeneral_basic_solver\u001b[0;34m(c, M, A, d, b, is_coupled, augmented, P)\u001b[0m\n\u001b[1;32m     69\u001b[0m \u001b[0;31m#         print(P)\u001b[0m\u001b[0;34m\u001b[0m\u001b[0;34m\u001b[0m\u001b[0m\n\u001b[1;32m     70\u001b[0m         \u001b[0;31m# TODO: make P PD\u001b[0m\u001b[0;34m\u001b[0m\u001b[0;34m\u001b[0m\u001b[0m\n\u001b[0;32m---> 71\u001b[0;31m         \u001b[0margmin_x\u001b[0m \u001b[0;34m=\u001b[0m \u001b[0msolve_qp\u001b[0m\u001b[0;34m(\u001b[0m\u001b[0mmake_PD\u001b[0m\u001b[0;34m(\u001b[0m\u001b[0mP\u001b[0m\u001b[0;34m)\u001b[0m\u001b[0;34m,\u001b[0m \u001b[0mc\u001b[0m\u001b[0;34m,\u001b[0m \u001b[0mA_ub\u001b[0m\u001b[0;34m,\u001b[0m \u001b[0mb_ub\u001b[0m\u001b[0;34m,\u001b[0m \u001b[0mlb\u001b[0m\u001b[0;34m=\u001b[0m\u001b[0mnp\u001b[0m\u001b[0;34m.\u001b[0m\u001b[0mzeros\u001b[0m\u001b[0;34m(\u001b[0m\u001b[0mlen\u001b[0m\u001b[0;34m(\u001b[0m\u001b[0mc\u001b[0m\u001b[0;34m)\u001b[0m\u001b[0;34m)\u001b[0m\u001b[0;34m)\u001b[0m\u001b[0;34m\u001b[0m\u001b[0m\n\u001b[0m\u001b[1;32m     72\u001b[0m     \u001b[0;32melse\u001b[0m\u001b[0;34m:\u001b[0m\u001b[0;34m\u001b[0m\u001b[0m\n\u001b[1;32m     73\u001b[0m         \u001b[0mres\u001b[0m \u001b[0;34m=\u001b[0m \u001b[0mlinprog\u001b[0m\u001b[0;34m(\u001b[0m\u001b[0mc\u001b[0m\u001b[0;34m,\u001b[0m \u001b[0mA_ub\u001b[0m\u001b[0;34m,\u001b[0m \u001b[0mb_ub\u001b[0m\u001b[0;34m)\u001b[0m\u001b[0;34m\u001b[0m\u001b[0m\n",
      "\u001b[0;32m/anaconda3/lib/python3.6/site-packages/qpsolvers/__init__.py\u001b[0m in \u001b[0;36msolve_qp\u001b[0;34m(P, q, G, h, A, b, lb, ub, solver, initvals, sym_proj, verbose, **kwargs)\u001b[0m\n\u001b[1;32m    260\u001b[0m         \u001b[0;32mreturn\u001b[0m \u001b[0mqpoases_solve_qp\u001b[0m\u001b[0;34m(\u001b[0m\u001b[0;34m*\u001b[0m\u001b[0margs\u001b[0m\u001b[0;34m,\u001b[0m \u001b[0;34m**\u001b[0m\u001b[0mkwargs\u001b[0m\u001b[0;34m)\u001b[0m\u001b[0;34m\u001b[0m\u001b[0m\n\u001b[1;32m    261\u001b[0m     \u001b[0;32melif\u001b[0m \u001b[0msolver\u001b[0m \u001b[0;34m==\u001b[0m \u001b[0;34m'quadprog'\u001b[0m\u001b[0;34m:\u001b[0m\u001b[0;34m\u001b[0m\u001b[0m\n\u001b[0;32m--> 262\u001b[0;31m         \u001b[0;32mreturn\u001b[0m \u001b[0mquadprog_solve_qp\u001b[0m\u001b[0;34m(\u001b[0m\u001b[0;34m*\u001b[0m\u001b[0margs\u001b[0m\u001b[0;34m,\u001b[0m \u001b[0;34m**\u001b[0m\u001b[0mkwargs\u001b[0m\u001b[0;34m)\u001b[0m\u001b[0;34m\u001b[0m\u001b[0m\n\u001b[0m\u001b[1;32m    263\u001b[0m     \u001b[0;32mraise\u001b[0m \u001b[0mException\u001b[0m\u001b[0;34m(\u001b[0m\u001b[0;34m\"solver '%s' not recognized\"\u001b[0m \u001b[0;34m%\u001b[0m \u001b[0msolver\u001b[0m\u001b[0;34m)\u001b[0m\u001b[0;34m\u001b[0m\u001b[0m\n\u001b[1;32m    264\u001b[0m \u001b[0;34m\u001b[0m\u001b[0m\n",
      "\u001b[0;32m/anaconda3/lib/python3.6/site-packages/qpsolvers/quadprog_.py\u001b[0m in \u001b[0;36mquadprog_solve_qp\u001b[0;34m(P, q, G, h, A, b, initvals, verbose)\u001b[0m\n\u001b[1;32m     86\u001b[0m         \u001b[0mmeq\u001b[0m \u001b[0;34m=\u001b[0m \u001b[0;36m0\u001b[0m\u001b[0;34m\u001b[0m\u001b[0m\n\u001b[1;32m     87\u001b[0m     \u001b[0;32mtry\u001b[0m\u001b[0;34m:\u001b[0m\u001b[0;34m\u001b[0m\u001b[0m\n\u001b[0;32m---> 88\u001b[0;31m         \u001b[0;32mreturn\u001b[0m \u001b[0msolve_qp\u001b[0m\u001b[0;34m(\u001b[0m\u001b[0mqp_G\u001b[0m\u001b[0;34m,\u001b[0m \u001b[0mqp_a\u001b[0m\u001b[0;34m,\u001b[0m \u001b[0mqp_C\u001b[0m\u001b[0;34m,\u001b[0m \u001b[0mqp_b\u001b[0m\u001b[0;34m,\u001b[0m \u001b[0mmeq\u001b[0m\u001b[0;34m)\u001b[0m\u001b[0;34m[\u001b[0m\u001b[0;36m0\u001b[0m\u001b[0;34m]\u001b[0m\u001b[0;34m\u001b[0m\u001b[0m\n\u001b[0m\u001b[1;32m     89\u001b[0m     \u001b[0;32mexcept\u001b[0m \u001b[0mValueError\u001b[0m \u001b[0;32mas\u001b[0m \u001b[0me\u001b[0m\u001b[0;34m:\u001b[0m\u001b[0;34m\u001b[0m\u001b[0m\n\u001b[1;32m     90\u001b[0m         \u001b[0;32mif\u001b[0m \u001b[0;34m\"matrix G is not positive definite\"\u001b[0m \u001b[0;32min\u001b[0m \u001b[0me\u001b[0m\u001b[0;34m:\u001b[0m\u001b[0;34m\u001b[0m\u001b[0m\n",
      "\u001b[0;32mquadprog/quadprog.pyx\u001b[0m in \u001b[0;36mquadprog.solve_qp\u001b[0;34m()\u001b[0m\n",
      "\u001b[0;32m/anaconda3/lib/python3.6/site-packages/numpy/core/_asarray.py\u001b[0m in \u001b[0;36masarray\u001b[0;34m(a, dtype, order)\u001b[0m\n\u001b[1;32m     14\u001b[0m ]\n\u001b[1;32m     15\u001b[0m \u001b[0;34m\u001b[0m\u001b[0m\n\u001b[0;32m---> 16\u001b[0;31m \u001b[0;34m@\u001b[0m\u001b[0mset_module\u001b[0m\u001b[0;34m(\u001b[0m\u001b[0;34m'numpy'\u001b[0m\u001b[0;34m)\u001b[0m\u001b[0;34m\u001b[0m\u001b[0m\n\u001b[0m\u001b[1;32m     17\u001b[0m \u001b[0;32mdef\u001b[0m \u001b[0masarray\u001b[0m\u001b[0;34m(\u001b[0m\u001b[0ma\u001b[0m\u001b[0;34m,\u001b[0m \u001b[0mdtype\u001b[0m\u001b[0;34m=\u001b[0m\u001b[0;32mNone\u001b[0m\u001b[0;34m,\u001b[0m \u001b[0morder\u001b[0m\u001b[0;34m=\u001b[0m\u001b[0;32mNone\u001b[0m\u001b[0;34m)\u001b[0m\u001b[0;34m:\u001b[0m\u001b[0;34m\u001b[0m\u001b[0m\n\u001b[1;32m     18\u001b[0m     \"\"\"Convert the input to an array.\n",
      "\u001b[0;31mKeyboardInterrupt\u001b[0m: "
     ]
    }
   ],
   "source": [
    "primal_err_list, lambda_err_list, duality_gap_list, total_time = sim_once(1000, alpha=1e-5, strategy=\"IAAL\", \n",
    "                                                                          tol=3e-3)"
   ]
  },
  {
   "cell_type": "code",
   "execution_count": 15,
   "metadata": {},
   "outputs": [
    {
     "data": {
      "text/plain": [
       "51"
      ]
     },
     "execution_count": 15,
     "metadata": {},
     "output_type": "execute_result"
    }
   ],
   "source": [
    "len(lambda_err_list)"
   ]
  },
  {
   "cell_type": "code",
   "execution_count": 16,
   "metadata": {},
   "outputs": [
    {
     "data": {
      "image/png": "[encoded data removed]",
      "text/plain": [
       "<matplotlib.figure.Figure at 0x152308550>"
      ]
     },
     "metadata": {
      "needs_background": "light"
     },
     "output_type": "display_data"
    }
   ],
   "source": [
    "plot_error(primal_err_list)"
   ]
  },
  {
   "cell_type": "code",
   "execution_count": 17,
   "metadata": {},
   "outputs": [
    {
     "data": {
      "image/png": "[encoded data removed]",
      "text/plain": [
       "<matplotlib.figure.Figure at 0x1500be080>"
      ]
     },
     "metadata": {
      "needs_background": "light"
     },
     "output_type": "display_data"
    }
   ],
   "source": [
    "plot_error(lambda_err_list)"
   ]
  },
  {
   "cell_type": "code",
   "execution_count": 18,
   "metadata": {},
   "outputs": [
    {
     "data": {
      "image/png": "[encoded data removed]",
      "text/plain": [
       "<matplotlib.figure.Figure at 0x122e29208>"
      ]
     },
     "metadata": {
      "needs_background": "light"
     },
     "output_type": "display_data"
    }
   ],
   "source": [
    "plot_error(duality_gap_list)"
   ]
  },
  {
   "cell_type": "code",
   "execution_count": 43,
   "metadata": {
    "scrolled": true
   },
   "outputs": [
    {
     "data": {
      "text/plain": [
       "[2018.1642670716483,\n",
       " 73.84807995601307,\n",
       " 101.09985364934283,\n",
       " 98.2096780588261,\n",
       " 66.71535861021422,\n",
       " 17.29489668259208,\n",
       " 39.89118670326836]"
      ]
     },
     "execution_count": 43,
     "metadata": {},
     "output_type": "execute_result"
    }
   ],
   "source": [
    "duality_gap_list"
   ]
  },
  {
   "cell_type": "code",
   "execution_count": null,
   "metadata": {},
   "outputs": [],
   "source": []
  }
 ],
 "metadata": {
  "kernelspec": {
   "display_name": "Python 3",
   "language": "python",
   "name": "python3"
  },
  "language_info": {
   "codemirror_mode": {
    "name": "ipython",
    "version": 3
   },
   "file_extension": ".py",
   "mimetype": "text/x-python",
   "name": "python",
   "nbconvert_exporter": "python",
   "pygments_lexer": "ipython3",
   "version": "3.6.4"
  }
 },
 "nbformat": 4,
 "nbformat_minor": 2
}
