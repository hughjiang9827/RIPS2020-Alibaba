{
 "cells": [
  {
   "cell_type": "code",
   "execution_count": 1,
   "metadata": {},
   "outputs": [],
   "source": [
    "from solver import *\n",
    "from sim_data import *"
   ]
  },
  {
   "cell_type": "code",
   "execution_count": 4,
   "metadata": {
    "scrolled": true
   },
   "outputs": [
    {
     "name": "stdout",
     "output_type": "stream",
     "text": [
      "--------\n",
      "size = 10\n",
      "status: optimal, optimal value: -523.0081048676301\n",
      "status: optimal, optimal value: -523.0081048676301\n",
      "0/2000.0\n",
      "Warning: maxit reached ADMM\n",
      "Approximated optimal objective value: -523.2921815746901\n",
      "status: optimal, optimal value: -475.83096634806463\n",
      "status: optimal, optimal value: -475.83096634806463\n",
      "0/2000.0\n",
      "Warning: maxit reached ADMM\n",
      "Approximated optimal objective value: -477.62968631962275\n",
      "status: optimal, optimal value: -491.003837559836\n",
      "status: optimal, optimal value: -491.003837559836\n",
      "0/2000.0\n",
      "Approximated optimal objective value: -490.68070416117513\n",
      "status: optimal, optimal value: -490.3796569673893\n",
      "status: optimal, optimal value: -490.3796569673893\n",
      "0/2000.0\n",
      "Warning: maxit reached ADMM\n",
      "Approximated optimal objective value: -492.28434356309424\n",
      "status: optimal, optimal value: -506.7999414357142\n",
      "status: optimal, optimal value: -506.7999414357142\n",
      "0/2000.0\n",
      "Approximated optimal objective value: -506.50311651885505\n",
      "--------\n",
      "size = 100\n",
      "status: optimal, optimal value: -5115.765691808518\n",
      "status: optimal, optimal value: -5115.765691808518\n",
      "0/20000.0\n",
      "Approximated optimal objective value: -5115.698954668678\n",
      "status: optimal, optimal value: -5387.3802569133095\n",
      "status: optimal, optimal value: -5387.3802569133095\n",
      "0/20000.0\n",
      "Approximated optimal objective value: -5385.054216285344\n",
      "status: optimal, optimal value: -4970.31914016591\n",
      "status: optimal, optimal value: -4970.31914016591\n",
      "0/20000.0\n",
      "10000/20000.0\n",
      "Approximated optimal objective value: -4968.769457948229\n",
      "status: optimal, optimal value: -5100.895227802785\n",
      "status: optimal, optimal value: -5100.895227802785\n",
      "0/20000.0\n",
      "Approximated optimal objective value: -5099.044457513692\n",
      "status: optimal, optimal value: -5168.5089238721375\n",
      "status: optimal, optimal value: -5168.5089238721375\n",
      "0/20000.0\n",
      "Approximated optimal objective value: -5168.3923284426055\n",
      "--------\n",
      "size = 200\n",
      "status: optimal, optimal value: -9772.798082475814\n",
      "status: optimal, optimal value: -9772.798082475814\n",
      "0/40000.0\n",
      "Approximated optimal objective value: -9763.693459456841\n",
      "status: optimal, optimal value: -10667.517964785806\n",
      "status: optimal, optimal value: -10667.517964785806\n",
      "0/40000.0\n",
      "10000/40000.0\n",
      "Approximated optimal objective value: -10665.903809530944\n",
      "status: optimal, optimal value: -10564.686738917235\n",
      "status: optimal, optimal value: -10564.686738917235\n",
      "0/40000.0\n",
      "Approximated optimal objective value: -10563.27866163338\n",
      "status: optimal, optimal value: -10524.690140582592\n",
      "status: optimal, optimal value: -10524.690140582592\n",
      "0/40000.0\n",
      "Approximated optimal objective value: -10523.107435017042\n",
      "status: optimal, optimal value: -9669.545299923922\n",
      "status: optimal, optimal value: -9669.545299923922\n",
      "0/40000.0\n",
      "Approximated optimal objective value: -9660.786210727101\n",
      "--------\n",
      "size = 400\n",
      "status: optimal, optimal value: -20178.072091128655\n",
      "status: optimal, optimal value: -20178.072091128655\n",
      "0/80000.0\n",
      "Approximated optimal objective value: -20160.078721121314\n",
      "status: optimal, optimal value: -21425.11270068681\n",
      "status: optimal, optimal value: -21425.11270068681\n",
      "0/80000.0\n",
      "Approximated optimal objective value: -21418.56960179801\n",
      "status: optimal, optimal value: -20499.571958469638\n",
      "status: optimal, optimal value: -20499.571958469638\n",
      "0/80000.0\n",
      "Approximated optimal objective value: -20493.067501165035\n",
      "status: optimal, optimal value: -20009.72599495407\n",
      "status: optimal, optimal value: -20009.72599495407\n",
      "0/80000.0\n",
      "Approximated optimal objective value: -20007.039307553914\n",
      "status: optimal, optimal value: -20763.49100901173\n",
      "status: optimal, optimal value: -20763.49100901173\n",
      "0/80000.0\n",
      "Approximated optimal objective value: -20760.763520831788\n",
      "--------\n",
      "size = 600\n",
      "status: optimal, optimal value: -30421.782562988745\n",
      "status: optimal, optimal value: -30421.782562988745\n",
      "0/120000.0\n",
      "Approximated optimal objective value: -30409.463203758532\n",
      "status: optimal, optimal value: -31615.332699100716\n",
      "status: optimal, optimal value: -31615.332699100716\n",
      "0/120000.0\n",
      "Approximated optimal objective value: -31590.22558006042\n",
      "status: optimal, optimal value: -31308.791639942\n",
      "status: optimal, optimal value: -31308.791639942\n",
      "0/120000.0\n",
      "Approximated optimal objective value: -31300.978616474706\n",
      "status: optimal, optimal value: -30438.332559584378\n",
      "status: optimal, optimal value: -30438.332559584378\n",
      "0/120000.0\n",
      "Approximated optimal objective value: -30431.091945322813\n",
      "status: optimal, optimal value: -30952.7706646733\n",
      "status: optimal, optimal value: -30952.7706646733\n",
      "0/120000.0\n",
      "10000/120000.0\n",
      "Approximated optimal objective value: -30949.587937605676\n",
      "--------\n",
      "size = 800\n",
      "status: optimal, optimal value: -42366.26772616787\n",
      "status: optimal, optimal value: -42366.26772616787\n",
      "0/160000.0\n",
      "Approximated optimal objective value: -42365.03846910278\n",
      "status: optimal, optimal value: -40479.52617460763\n",
      "status: optimal, optimal value: -40479.52617460763\n",
      "0/160000.0\n",
      "Approximated optimal objective value: -40444.98504243907\n",
      "status: optimal, optimal value: -41829.07064794803\n",
      "status: optimal, optimal value: -41829.07064794803\n",
      "0/160000.0\n",
      "Approximated optimal objective value: -41817.42254349999\n",
      "status: optimal, optimal value: -43129.07942924301\n",
      "status: optimal, optimal value: -43129.07942924301\n",
      "0/160000.0\n",
      "Approximated optimal objective value: -43123.81219325851\n",
      "status: optimal, optimal value: -40514.674223795315\n",
      "status: optimal, optimal value: -40514.674223795315\n",
      "0/160000.0\n",
      "Approximated optimal objective value: -40500.042000147456\n",
      "--------\n",
      "size = 1000\n",
      "status: optimal, optimal value: -52899.5410362941\n",
      "status: optimal, optimal value: -52899.5410362941\n",
      "0/200000.0\n",
      "Approximated optimal objective value: -52856.76237162494\n",
      "status: optimal, optimal value: -51691.00126402786\n",
      "status: optimal, optimal value: -51691.00126402786\n",
      "0/200000.0\n",
      "Approximated optimal objective value: -51641.15643983186\n",
      "status: optimal, optimal value: -52928.37763895486\n",
      "status: optimal, optimal value: -52928.37763895486\n",
      "0/200000.0\n",
      "Approximated optimal objective value: -52920.096164546456\n",
      "status: optimal, optimal value: -51388.02946552258\n",
      "status: optimal, optimal value: -51388.02946552258\n",
      "0/200000.0\n",
      "Approximated optimal objective value: -51366.80156503118\n",
      "status: optimal, optimal value: -52474.68366325248\n",
      "status: optimal, optimal value: -52474.68366325248\n",
      "0/200000.0\n",
      "Approximated optimal objective value: -52455.618352358084\n",
      "--------\n",
      "size = 1200\n",
      "status: optimal, optimal value: -63968.089871907716\n",
      "status: optimal, optimal value: -63968.089871907716\n",
      "0/240000.0\n",
      "Approximated optimal objective value: -63911.26914140752\n",
      "status: optimal, optimal value: -61300.63172642547\n",
      "status: optimal, optimal value: -61300.63172642547\n",
      "0/240000.0\n",
      "Approximated optimal objective value: -61277.00275169783\n",
      "status: optimal, optimal value: -60094.68365654094\n",
      "status: optimal, optimal value: -60094.68365654094\n",
      "0/240000.0\n",
      "10000/240000.0\n",
      "Approximated optimal objective value: -60070.72267417906\n",
      "status: optimal, optimal value: -60591.025988259054\n",
      "status: optimal, optimal value: -60591.025988259054\n",
      "0/240000.0\n",
      "10000/240000.0\n",
      "Approximated optimal objective value: -60578.45670631221\n",
      "status: optimal, optimal value: -60427.305540392364\n",
      "status: optimal, optimal value: -60427.305540392364\n",
      "0/240000.0\n",
      "Approximated optimal objective value: -60405.34047222021\n",
      "--------\n",
      "size = 1400\n",
      "status: optimal, optimal value: -71835.28731007481\n",
      "status: optimal, optimal value: -71835.28731007481\n",
      "0/280000.0\n",
      "Approximated optimal objective value: -71768.11780502583\n",
      "status: optimal, optimal value: -73355.11222740513\n",
      "status: optimal, optimal value: -73355.11222740513\n",
      "0/280000.0\n",
      "10000/280000.0\n",
      "Approximated optimal objective value: -73291.1335214945\n",
      "status: optimal, optimal value: -70420.30440693459\n",
      "status: optimal, optimal value: -70420.30440693459\n",
      "0/280000.0\n",
      "10000/280000.0\n",
      "Approximated optimal objective value: -70410.78822051034\n",
      "status: optimal, optimal value: -71078.93128831923\n",
      "status: optimal, optimal value: -71078.93128831923\n",
      "0/280000.0\n",
      "10000/280000.0\n",
      "Approximated optimal objective value: -71028.03914863794\n",
      "status: optimal, optimal value: -74296.66746686911\n",
      "status: optimal, optimal value: -74296.66746686911\n",
      "0/280000.0\n",
      "Approximated optimal objective value: -74291.45638967131\n",
      "--------\n",
      "size = 1600\n",
      "status: optimal, optimal value: -85278.73120004084\n",
      "status: optimal, optimal value: -85278.73120004084\n",
      "0/320000.0\n",
      "Approximated optimal objective value: -85257.20804978989\n"
     ]
    },
    {
     "name": "stdout",
     "output_type": "stream",
     "text": [
      "status: optimal, optimal value: -79391.96890311701\n",
      "status: optimal, optimal value: -79391.96890311701\n",
      "0/320000.0\n",
      "Approximated optimal objective value: -79373.5013095351\n",
      "status: optimal, optimal value: -79401.58979223059\n",
      "status: optimal, optimal value: -79401.58979223059\n",
      "0/320000.0\n",
      "Approximated optimal objective value: -79355.27012846847\n",
      "status: optimal, optimal value: -85115.64361900803\n",
      "status: optimal, optimal value: -85115.64361900803\n",
      "0/320000.0\n",
      "Approximated optimal objective value: -85113.92905971847\n",
      "status: optimal, optimal value: -81964.21875192088\n",
      "status: optimal, optimal value: -81964.21875192088\n",
      "0/320000.0\n",
      "10000/320000.0\n",
      "Approximated optimal objective value: -81956.41040851267\n"
     ]
    }
   ],
   "source": [
    "n_range = [10, 100] + [i for i in range(200, 1800, 200)]\n",
    "# n_range = [10]\n",
    "default_time_list, IAAL_time_list, ADMM_time_list = sim_multi(n_range, maxit=200, \n",
    "                                                                                  alpha=1e-4, tol=1e-3, seed=42, \n",
    "                                                                                  num_avg=5)"
   ]
  },
  {
   "cell_type": "code",
   "execution_count": 5,
   "metadata": {},
   "outputs": [
    {
     "data": {
      "text/plain": [
       "([0.0172269344329834,\n",
       "  0.14214439392089845,\n",
       "  0.38469595909118653,\n",
       "  0.9944920539855957,\n",
       "  1.9337475299835205,\n",
       "  3.650180530548096,\n",
       "  6.149869012832641,\n",
       "  8.523154926300048,\n",
       "  13.099509572982788,\n",
       "  19.67610368728638],\n",
       " [],\n",
       " [0.5335267543792724,\n",
       "  1.7598971843719482,\n",
       "  1.8296972274780274,\n",
       "  1.2710419654846192,\n",
       "  1.4162231922149657,\n",
       "  0.8587864398956299,\n",
       "  1.3099094867706298,\n",
       "  2.61428165435791,\n",
       "  2.6591306209564207,\n",
       "  2.087877559661865])"
      ]
     },
     "execution_count": 5,
     "metadata": {},
     "output_type": "execute_result"
    }
   ],
   "source": [
    "default_time_list, IAAL_time_list, ADMM_time_list"
   ]
  },
  {
   "cell_type": "code",
   "execution_count": 8,
   "metadata": {},
   "outputs": [
    {
     "data": {
      "image/png": "[encoded data removed]",
      "text/plain": [
       "<matplotlib.figure.Figure at 0x1178d3908>"
      ]
     },
     "metadata": {
      "needs_background": "light"
     },
     "output_type": "display_data"
    }
   ],
   "source": [
    "all_lists = [default_time_list, ADMM_time_list]\n",
    "name = \"Runtime Comparison to Reach below 1e-3 Relative Error\"\n",
    "label_list = [\"cvxpy\", \"ADMM\"]\n",
    "plot_util(all_lists, n_range, name, label_list)"
   ]
  },
  {
   "cell_type": "code",
   "execution_count": 2,
   "metadata": {
    "scrolled": true
   },
   "outputs": [
    {
     "name": "stdout",
     "output_type": "stream",
     "text": [
      "--------\n",
      "size = 10\n",
      "status: optimal, optimal value: -523.0081048676301\n",
      "status: optimal, optimal value: -523.0081048676301\n",
      "0/2000.0\n",
      "Warning: maxit reached ADMM\n",
      "-523.2921815746901\n",
      "status: optimal, optimal value: -475.83096634806463\n",
      "status: optimal, optimal value: -475.83096634806463\n",
      "0/2000.0\n",
      "Warning: maxit reached ADMM\n",
      "-477.62968631962275\n",
      "status: optimal, optimal value: -491.003837559836\n",
      "status: optimal, optimal value: -491.003837559836\n",
      "0/2000.0\n",
      "-490.68070416117513\n",
      "status: optimal, optimal value: -490.3796569673893\n",
      "status: optimal, optimal value: -490.3796569673893\n",
      "0/2000.0\n",
      "Warning: maxit reached ADMM\n",
      "-492.28434356309424\n",
      "status: optimal, optimal value: -506.7999414357142\n",
      "status: optimal, optimal value: -506.7999414357142\n",
      "0/2000.0\n",
      "-506.50311651885505\n",
      "--------\n",
      "size = 100\n",
      "status: optimal, optimal value: -5115.765691808518\n",
      "status: optimal, optimal value: -5115.765691808518\n",
      "0/20000.0\n",
      "-5115.698954668678\n",
      "status: optimal, optimal value: -5387.3802569133095\n",
      "status: optimal, optimal value: -5387.3802569133095\n",
      "0/20000.0\n",
      "-5385.054216285344\n",
      "status: optimal, optimal value: -4970.31914016591\n",
      "status: optimal, optimal value: -4970.31914016591\n",
      "0/20000.0\n",
      "10000/20000.0\n",
      "-4968.769457948229\n",
      "status: optimal, optimal value: -5100.895227802785\n",
      "status: optimal, optimal value: -5100.895227802785\n",
      "0/20000.0\n",
      "-5099.044457513692\n",
      "status: optimal, optimal value: -5168.5089238721375\n",
      "status: optimal, optimal value: -5168.5089238721375\n",
      "0/20000.0\n",
      "-5168.3923284426055\n",
      "--------\n",
      "size = 200\n",
      "status: optimal, optimal value: -9772.798082475814\n",
      "status: optimal, optimal value: -9772.798082475814\n",
      "0/40000.0\n",
      "-9763.693459456841\n",
      "status: optimal, optimal value: -10667.517964785806\n",
      "status: optimal, optimal value: -10667.517964785806\n",
      "0/40000.0\n",
      "10000/40000.0\n",
      "-10665.903809530944\n",
      "status: optimal, optimal value: -10564.686738917235\n",
      "status: optimal, optimal value: -10564.686738917235\n",
      "0/40000.0\n",
      "-10563.27866163338\n",
      "status: optimal, optimal value: -10524.690140582592\n",
      "status: optimal, optimal value: -10524.690140582592\n",
      "0/40000.0\n",
      "-10523.107435017042\n",
      "status: optimal, optimal value: -9669.545299923922\n",
      "status: optimal, optimal value: -9669.545299923922\n",
      "0/40000.0\n",
      "-9660.786210727101\n",
      "--------\n",
      "size = 400\n",
      "status: optimal, optimal value: -20178.072091128655\n",
      "status: optimal, optimal value: -20178.072091128655\n",
      "0/80000.0\n",
      "-20160.078721121314\n",
      "status: optimal, optimal value: -21425.11270068681\n",
      "status: optimal, optimal value: -21425.11270068681\n",
      "0/80000.0\n",
      "-21418.56960179801\n",
      "status: optimal, optimal value: -20499.571958469638\n",
      "status: optimal, optimal value: -20499.571958469638\n",
      "0/80000.0\n",
      "-20493.067501165035\n",
      "status: optimal, optimal value: -20009.72599495407\n",
      "status: optimal, optimal value: -20009.72599495407\n",
      "0/80000.0\n",
      "-20007.039307553914\n",
      "status: optimal, optimal value: -20763.49100901173\n",
      "status: optimal, optimal value: -20763.49100901173\n",
      "0/80000.0\n",
      "-20760.763520831788\n",
      "--------\n",
      "size = 600\n",
      "status: optimal, optimal value: -30421.782562988745\n",
      "status: optimal, optimal value: -30421.782562988745\n",
      "0/120000.0\n",
      "-30409.463203758532\n",
      "status: optimal, optimal value: -31615.332699100716\n",
      "status: optimal, optimal value: -31615.332699100716\n",
      "0/120000.0\n",
      "-31590.22558006042\n",
      "status: optimal, optimal value: -31308.791639942\n",
      "status: optimal, optimal value: -31308.791639942\n",
      "0/120000.0\n",
      "-31300.978616474706\n",
      "status: optimal, optimal value: -30438.332559584378\n",
      "status: optimal, optimal value: -30438.332559584378\n",
      "0/120000.0\n",
      "-30431.091945322813\n",
      "status: optimal, optimal value: -30952.7706646733\n",
      "status: optimal, optimal value: -30952.7706646733\n",
      "0/120000.0\n",
      "10000/120000.0\n",
      "-30949.587937605676\n",
      "--------\n",
      "size = 800\n",
      "status: optimal, optimal value: -42366.26772616787\n",
      "status: optimal, optimal value: -42366.26772616787\n",
      "0/160000.0\n",
      "-42365.03846910278\n",
      "status: optimal, optimal value: -40479.52617460763\n",
      "status: optimal, optimal value: -40479.52617460763\n",
      "0/160000.0\n",
      "-40444.98504243907\n",
      "status: optimal, optimal value: -41829.07064794803\n",
      "status: optimal, optimal value: -41829.07064794803\n",
      "0/160000.0\n",
      "-41817.42254349999\n",
      "status: optimal, optimal value: -43129.07942924301\n",
      "status: optimal, optimal value: -43129.07942924301\n",
      "0/160000.0\n",
      "-43123.81219325851\n",
      "status: optimal, optimal value: -40514.674223795315\n",
      "status: optimal, optimal value: -40514.674223795315\n",
      "0/160000.0\n",
      "-40500.042000147456\n",
      "--------\n",
      "size = 1000\n",
      "status: optimal, optimal value: -52899.5410362941\n",
      "status: optimal, optimal value: -52899.5410362941\n",
      "0/200000.0\n",
      "-52856.76237162494\n",
      "status: optimal, optimal value: -51691.00126402786\n",
      "status: optimal, optimal value: -51691.00126402786\n",
      "0/200000.0\n",
      "-51641.15643983186\n",
      "status: optimal, optimal value: -52928.37763895486\n",
      "status: optimal, optimal value: -52928.37763895486\n",
      "0/200000.0\n",
      "-52920.096164546456\n",
      "status: optimal, optimal value: -51388.02946552258\n",
      "status: optimal, optimal value: -51388.02946552258\n",
      "0/200000.0\n",
      "-51366.80156503118\n",
      "status: optimal, optimal value: -52474.68366325248\n",
      "status: optimal, optimal value: -52474.68366325248\n",
      "0/200000.0\n",
      "-52455.618352358084\n",
      "--------\n",
      "size = 1200\n",
      "status: optimal, optimal value: -63968.089871907716\n",
      "status: optimal, optimal value: -63968.089871907716\n",
      "0/240000.0\n",
      "-63911.26914140752\n",
      "status: optimal, optimal value: -61300.63172642547\n",
      "status: optimal, optimal value: -61300.63172642547\n",
      "0/240000.0\n",
      "-61277.00275169783\n",
      "status: optimal, optimal value: -60094.68365654094\n",
      "status: optimal, optimal value: -60094.68365654094\n",
      "0/240000.0\n",
      "10000/240000.0\n",
      "-60070.72267417906\n",
      "status: optimal, optimal value: -60591.025988259054\n",
      "status: optimal, optimal value: -60591.025988259054\n",
      "0/240000.0\n",
      "10000/240000.0\n",
      "-60578.45670631221\n",
      "status: optimal, optimal value: -60427.305540392364\n",
      "status: optimal, optimal value: -60427.305540392364\n",
      "0/240000.0\n",
      "-60405.34047222021\n",
      "--------\n",
      "size = 1400\n",
      "status: optimal, optimal value: -71835.28731007481\n",
      "status: optimal, optimal value: -71835.28731007481\n",
      "0/280000.0\n",
      "-71768.11780502583\n",
      "status: optimal, optimal value: -73355.11222740513\n",
      "status: optimal, optimal value: -73355.11222740513\n",
      "0/280000.0\n",
      "10000/280000.0\n",
      "-73291.1335214945\n",
      "status: optimal, optimal value: -70420.30440693459\n",
      "status: optimal, optimal value: -70420.30440693459\n",
      "0/280000.0\n",
      "10000/280000.0\n",
      "-70410.78822051034\n",
      "status: optimal, optimal value: -71078.93128831923\n",
      "status: optimal, optimal value: -71078.93128831923\n",
      "0/280000.0\n",
      "10000/280000.0\n",
      "-71028.03914863794\n",
      "status: optimal, optimal value: -74296.66746686911\n",
      "status: optimal, optimal value: -74296.66746686911\n",
      "0/280000.0\n",
      "-74291.45638967131\n",
      "--------\n",
      "size = 1600\n",
      "status: optimal, optimal value: -85278.73120004084\n",
      "status: optimal, optimal value: -85278.73120004084\n",
      "0/320000.0\n",
      "-85257.20804978989\n",
      "status: optimal, optimal value: -79391.96890311701\n",
      "status: optimal, optimal value: -79391.96890311701\n",
      "0/320000.0\n",
      "-79373.5013095351\n",
      "status: optimal, optimal value: -79401.58979223059\n",
      "status: optimal, optimal value: -79401.58979223059\n",
      "0/320000.0\n",
      "-79355.27012846847\n",
      "status: optimal, optimal value: -85115.64361900803\n",
      "status: optimal, optimal value: -85115.64361900803\n",
      "0/320000.0\n",
      "-85113.92905971847\n",
      "status: optimal, optimal value: -81964.21875192088\n",
      "status: optimal, optimal value: -81964.21875192088\n",
      "0/320000.0\n",
      "10000/320000.0\n",
      "-81956.41040851267\n"
     ]
    }
   ],
   "source": [
    "n_range = [10, 100] + [i for i in range(200, 1800, 200)]\n",
    "# n_range = [10]\n",
    "default_time_list, IAAL_time_list, ADMM_time_list = sim_multi(n_range, maxit=200, alpha=1e-4, tol=1e-3, seed=42, \n",
    "                                                              num_avg=5)"
   ]
  },
  {
   "cell_type": "code",
   "execution_count": 3,
   "metadata": {},
   "outputs": [
    {
     "data": {
      "text/plain": [
       "([0.01651005744934082,\n",
       "  0.15102024078369142,\n",
       "  0.375718355178833,\n",
       "  0.9601378440856934,\n",
       "  2.1284796714782717,\n",
       "  3.460151433944702,\n",
       "  5.78188123703003,\n",
       "  8.607836866378785,\n",
       "  14.739071369171143,\n",
       "  16.90225496292114],\n",
       " [],\n",
       " [0.5721732616424561,\n",
       "  1.5756669521331788,\n",
       "  1.9616205215454101,\n",
       "  1.2954654216766357,\n",
       "  1.6654265880584718,\n",
       "  0.8700911998748779,\n",
       "  1.3808497428894042,\n",
       "  2.6588440895080567,\n",
       "  2.8772498607635497,\n",
       "  1.9723842144012451])"
      ]
     },
     "execution_count": 3,
     "metadata": {},
     "output_type": "execute_result"
    }
   ],
   "source": [
    "default_time_list, IAAL_time_list, ADMM_time_list"
   ]
  },
  {
   "cell_type": "code",
   "execution_count": 2,
   "metadata": {},
   "outputs": [],
   "source": [
    "default_time_list, IAAL_time_list, ADMM_time_list = ([0.01651005744934082,\n",
    "  0.15102024078369142,\n",
    "  0.375718355178833,\n",
    "  0.9601378440856934,\n",
    "  2.1284796714782717,\n",
    "  3.460151433944702,\n",
    "  5.78188123703003,\n",
    "  8.607836866378785,\n",
    "  14.739071369171143,\n",
    "  16.90225496292114],\n",
    " [],\n",
    " [0.5721732616424561,\n",
    "  1.5756669521331788,\n",
    "  1.9616205215454101,\n",
    "  1.2954654216766357,\n",
    "  1.6654265880584718,\n",
    "  0.8700911998748779,\n",
    "  1.3808497428894042,\n",
    "  2.6588440895080567,\n",
    "  2.8772498607635497,\n",
    "  1.9723842144012451])"
   ]
  },
  {
   "cell_type": "code",
   "execution_count": 11,
   "metadata": {},
   "outputs": [],
   "source": [
    "def plot_util(all_lists, x, name, label_list, color_list):\n",
    "    plt.figure()\n",
    "    plt.xlabel('n')\n",
    "    plt.ylabel(\"time\")\n",
    "    plt.title(name)\n",
    "\n",
    "    for i in range(len(all_lists)):\n",
    "        # TODO: check\n",
    "        y = all_lists[i]\n",
    "        plt.plot(x, y, label=label_list[i], color=color_list[i])\n",
    "    plt.legend()\n",
    "    plt.tight_layout()\n",
    "    plt.show()"
   ]
  },
  {
   "cell_type": "code",
   "execution_count": 12,
   "metadata": {},
   "outputs": [
    {
     "data": {
      "image/png": "[encoded data removed]",
      "text/plain": [
       "<matplotlib.figure.Figure at 0x11667bac8>"
      ]
     },
     "metadata": {
      "needs_background": "light"
     },
     "output_type": "display_data"
    }
   ],
   "source": [
    "all_lists = [default_time_list, ADMM_time_list]\n",
    "n_range = [10, 100] + [i for i in range(200, 1800, 200)]\n",
    "x = n_range\n",
    "name = \"Runtime Comparison to Reach below 1e-3 Relative Error\"\n",
    "label_list = [\"cvxpy\", \"ADMM\"]\n",
    "color_list = [\"g\", \"r\"]\n",
    "plot_util(all_lists, x, name, label_list, color_list)"
   ]
  },
  {
   "cell_type": "code",
   "execution_count": 5,
   "metadata": {},
   "outputs": [
    {
     "data": {
      "image/png": "[encoded data removed]",
      "text/plain": [
       "<matplotlib.figure.Figure at 0x11c63f6a0>"
      ]
     },
     "metadata": {
      "needs_background": "light"
     },
     "output_type": "display_data"
    }
   ],
   "source": [
    "all_lists = [default_time_list, ADMM_time_list]\n",
    "x = n_range\n",
    "name = \"Runtime Comparison to Reach below 1e-3 Relative Error\"\n",
    "label_list = [\"cvxpy\", \"ADMM\"]\n",
    "plot_util(all_lists, x, name, label_list)"
   ]
  },
  {
   "cell_type": "code",
   "execution_count": 7,
   "metadata": {
    "scrolled": true
   },
   "outputs": [
    {
     "name": "stdout",
     "output_type": "stream",
     "text": [
      "--------\n",
      "size = 10\n",
      "status: optimal, optimal value: -523.0081048676301\n",
      "status: optimal, optimal value: -523.0081048676301\n",
      "0/2000.0\n",
      "Warning: maxit reached ADMM\n",
      "-523.2921815746953\n",
      "status: optimal, optimal value: -555.9843650723608\n",
      "status: optimal, optimal value: -555.9843650723608\n",
      "0/2000.0\n",
      "-555.9692273927637\n",
      "status: optimal, optimal value: -526.9951786066938\n",
      "status: optimal, optimal value: -526.9951786066938\n",
      "0/2000.0\n",
      "-526.9951787190544\n",
      "status: optimal, optimal value: -574.2008966410725\n",
      "status: optimal, optimal value: -574.2008966410725\n",
      "0/2000.0\n",
      "Warning: maxit reached ADMM\n",
      "-584.0470221207693\n",
      "status: optimal, optimal value: -555.9843650723608\n",
      "status: optimal, optimal value: -555.9843650723608\n",
      "0/2000.0\n",
      "-555.9692273927637\n",
      "--------\n",
      "size = 100\n",
      "status: optimal, optimal value: -4885.463057832918\n",
      "status: optimal, optimal value: -4885.463057832918\n",
      "0/20000.0\n",
      "-4885.366065208545\n",
      "status: optimal, optimal value: -4961.786999725926\n",
      "status: optimal, optimal value: -4961.786999725926\n",
      "0/20000.0\n",
      "-4960.039962565314\n",
      "status: optimal, optimal value: -5374.12098470353\n",
      "status: optimal, optimal value: -5374.12098470353\n",
      "0/20000.0\n",
      "-5370.464932614667\n",
      "status: optimal, optimal value: -5071.867158385181\n",
      "status: optimal, optimal value: -5071.867158385181\n",
      "0/20000.0\n",
      "10000/20000.0\n",
      "-5069.237043133609\n",
      "status: optimal, optimal value: -4800.09724545216\n",
      "status: optimal, optimal value: -4800.09724545216\n",
      "0/20000.0\n",
      "-4796.174195508793\n",
      "--------\n",
      "size = 200\n",
      "status: optimal, optimal value: -10415.652702908968\n",
      "status: optimal, optimal value: -10415.652702908968\n",
      "0/40000.0\n",
      "10000/40000.0\n",
      "-10414.45634205055\n",
      "status: optimal, optimal value: -10483.142260070685\n",
      "status: optimal, optimal value: -10483.142260070685\n",
      "0/40000.0\n",
      "-10482.730809698183\n",
      "status: optimal, optimal value: -10487.587728816083\n",
      "status: optimal, optimal value: -10487.587728816083\n",
      "0/40000.0\n",
      "-10485.989018603907\n",
      "status: optimal, optimal value: -9907.91213380382\n",
      "status: optimal, optimal value: -9907.91213380382\n",
      "0/40000.0\n",
      "-9904.575035782673\n",
      "status: optimal, optimal value: -10152.621053511904\n",
      "status: optimal, optimal value: -10152.621053511904\n",
      "0/40000.0\n",
      "-10151.444869337975\n",
      "--------\n",
      "size = 400\n",
      "status: optimal, optimal value: -20114.75678213761\n",
      "status: optimal, optimal value: -20114.75678213761\n",
      "0/80000.0\n",
      "-20103.97297440314\n",
      "status: optimal, optimal value: -19740.59209213838\n",
      "status: optimal, optimal value: -19740.59209213838\n",
      "0/80000.0\n",
      "10000/80000.0\n",
      "20000/80000.0\n",
      "30000/80000.0\n",
      "40000/80000.0\n",
      "50000/80000.0\n",
      "60000/80000.0\n",
      "70000/80000.0\n",
      "Warning: maxit reached ADMM\n",
      "-19742.36278420046\n",
      "status: optimal, optimal value: -21171.28264492083\n",
      "status: optimal, optimal value: -21171.28264492083\n",
      "0/80000.0\n",
      "-21170.784491669183\n",
      "status: optimal, optimal value: -19892.411473710858\n",
      "status: optimal, optimal value: -19892.411473710858\n",
      "0/80000.0\n",
      "-19873.407533104328\n",
      "status: optimal, optimal value: -20650.375668708355\n",
      "status: optimal, optimal value: -20650.375668708355\n",
      "0/80000.0\n",
      "-20643.98769058657\n",
      "--------\n",
      "size = 600\n",
      "status: optimal, optimal value: -28661.350197188593\n",
      "status: optimal, optimal value: -28661.350197188593\n",
      "0/120000.0\n",
      "-28635.637754691907\n",
      "status: optimal, optimal value: -30479.486148791664\n",
      "status: optimal, optimal value: -30479.486148791664\n",
      "0/120000.0\n",
      "-30455.003895460308\n",
      "status: optimal, optimal value: -29740.917431281723\n",
      "status: optimal, optimal value: -29740.917431281723\n",
      "0/120000.0\n",
      "-29728.57957043778\n",
      "status: optimal, optimal value: -31941.503708385688\n",
      "status: optimal, optimal value: -31941.503708385688\n",
      "0/120000.0\n",
      "-31938.372047402525\n",
      "status: optimal, optimal value: -31509.828367034577\n",
      "status: optimal, optimal value: -31509.828367034577\n",
      "0/120000.0\n",
      "-31489.871851371383\n",
      "--------\n",
      "size = 800\n",
      "status: optimal, optimal value: -38664.56845814528\n",
      "status: optimal, optimal value: -38664.56845814528\n",
      "0/160000.0\n",
      "-38657.19494076844\n",
      "status: optimal, optimal value: -42172.08575330879\n",
      "status: optimal, optimal value: -42172.08575330879\n",
      "0/160000.0\n",
      "-42164.366180037185\n",
      "status: optimal, optimal value: -40127.62496591349\n",
      "status: optimal, optimal value: -40127.62496591349\n",
      "0/160000.0\n",
      "-40102.61191965836\n",
      "status: optimal, optimal value: -40127.62496591349\n",
      "status: optimal, optimal value: -40127.62496591349\n",
      "0/160000.0\n",
      "-40102.61191965836\n",
      "status: optimal, optimal value: -40127.62496591349\n",
      "status: optimal, optimal value: -40127.62496591349\n",
      "0/160000.0\n",
      "-40102.61191965836\n",
      "--------\n",
      "size = 1000\n",
      "status: optimal, optimal value: -49431.34614132513\n",
      "status: optimal, optimal value: -49431.34614132513\n",
      "0/200000.0\n",
      "-49408.43228828651\n",
      "status: optimal, optimal value: -49575.17271691725\n",
      "status: optimal, optimal value: -49575.17271691725\n",
      "0/200000.0\n",
      "-49554.4658891273\n",
      "status: optimal, optimal value: -49575.17271691725\n",
      "status: optimal, optimal value: -49575.17271691725\n",
      "0/200000.0\n",
      "-49554.4658891273\n",
      "status: optimal, optimal value: -49575.17271691725\n",
      "status: optimal, optimal value: -49575.17271691725\n",
      "0/200000.0\n",
      "-49554.4658891273\n",
      "status: optimal, optimal value: -49575.17271691725\n",
      "status: optimal, optimal value: -49575.17271691725\n",
      "0/200000.0\n",
      "-49554.4658891273\n",
      "--------\n",
      "size = 1200\n",
      "status: optimal, optimal value: -60672.55009095513\n",
      "status: optimal, optimal value: -60672.55009095513\n",
      "0/240000.0\n",
      "-60639.90570446576\n",
      "status: optimal, optimal value: -62032.99800567797\n",
      "status: optimal, optimal value: -62032.99800567797\n",
      "0/240000.0\n",
      "-62002.95374450214\n",
      "status: optimal, optimal value: -58647.01330116793\n",
      "status: optimal, optimal value: -58647.01330116793\n",
      "0/240000.0\n",
      "10000/240000.0\n",
      "20000/240000.0\n",
      "30000/240000.0\n",
      "40000/240000.0\n",
      "50000/240000.0\n",
      "60000/240000.0\n",
      "70000/240000.0\n",
      "80000/240000.0\n",
      "90000/240000.0\n",
      "100000/240000.0\n",
      "110000/240000.0\n",
      "120000/240000.0\n",
      "130000/240000.0\n",
      "140000/240000.0\n",
      "150000/240000.0\n",
      "160000/240000.0\n",
      "170000/240000.0\n",
      "180000/240000.0\n",
      "190000/240000.0\n",
      "200000/240000.0\n",
      "210000/240000.0\n",
      "220000/240000.0\n",
      "230000/240000.0\n",
      "Warning: maxit reached ADMM\n",
      "-63294.52606822708\n",
      "status: optimal, optimal value: -63157.120839486786\n",
      "status: optimal, optimal value: -63157.120839486786\n",
      "0/240000.0\n",
      "-63127.344514261065\n",
      "status: optimal, optimal value: -58647.01330116793\n",
      "status: optimal, optimal value: -58647.01330116793\n",
      "0/240000.0\n",
      "10000/240000.0\n",
      "20000/240000.0\n",
      "30000/240000.0\n",
      "40000/240000.0\n",
      "50000/240000.0\n",
      "60000/240000.0\n",
      "70000/240000.0\n",
      "80000/240000.0\n",
      "90000/240000.0\n",
      "100000/240000.0\n",
      "110000/240000.0\n",
      "120000/240000.0\n",
      "130000/240000.0\n",
      "140000/240000.0\n",
      "150000/240000.0\n",
      "160000/240000.0\n",
      "170000/240000.0\n",
      "180000/240000.0\n",
      "190000/240000.0\n",
      "200000/240000.0\n",
      "210000/240000.0\n",
      "220000/240000.0\n",
      "230000/240000.0\n",
      "Warning: maxit reached ADMM\n",
      "-63294.52606822708\n",
      "--------\n",
      "size = 1400\n",
      "status: optimal, optimal value: -70520.88696448141\n",
      "status: optimal, optimal value: -70520.88696448141\n",
      "0/280000.0\n",
      "10000/280000.0\n",
      "-70465.72037571867\n",
      "status: optimal, optimal value: -70383.24467140951\n",
      "status: optimal, optimal value: -70383.24467140951\n",
      "0/280000.0\n",
      "-70362.59022174655\n",
      "status: optimal, optimal value: -71244.41661618276\n",
      "status: optimal, optimal value: -71244.41661618276\n",
      "0/280000.0\n",
      "-71223.0839554207\n",
      "status: optimal, optimal value: -70402.21586243225\n",
      "status: optimal, optimal value: -70402.21586243225\n",
      "0/280000.0\n",
      "10000/280000.0\n",
      "20000/280000.0\n",
      "-70362.78259065055\n",
      "status: optimal, optimal value: -67952.66644050751\n",
      "status: optimal, optimal value: -67952.66644050751\n",
      "0/280000.0\n",
      "10000/280000.0\n",
      "-67912.08854858915\n",
      "--------\n",
      "size = 1600\n",
      "status: optimal, optimal value: -84722.2885734348\n",
      "status: optimal, optimal value: -84722.2885734348\n",
      "0/320000.0\n",
      "-84704.71230951458\n",
      "status: optimal, optimal value: -85160.6429091464\n",
      "status: optimal, optimal value: -85160.6429091464\n",
      "0/320000.0\n",
      "-85146.55312545701\n",
      "status: optimal, optimal value: -85160.6429091464\n",
      "status: optimal, optimal value: -85160.6429091464\n",
      "0/320000.0\n",
      "-85146.55312545701\n",
      "status: optimal, optimal value: -85160.6429091464\n",
      "status: optimal, optimal value: -85160.6429091464\n",
      "0/320000.0\n",
      "-85146.55312545701\n",
      "status: optimal, optimal value: -85160.6429091464\n",
      "status: optimal, optimal value: -85160.6429091464\n",
      "0/320000.0\n",
      "-85146.55312545701\n"
     ]
    }
   ],
   "source": [
    "n_range = [10, 100] + [i for i in range(200, 1800, 200)]\n",
    "# n_range = [10]\n",
    "default_time_list, IAAL_time_list, ADMM_time_list = sim_multi(n_range, maxit=200, alpha=1e-4, tol=1e-3, seed=42, \n",
    "                                                              num_avg=5)"
   ]
  },
  {
   "cell_type": "code",
   "execution_count": 8,
   "metadata": {},
   "outputs": [
    {
     "data": {
      "text/plain": [
       "([0.015424776077270507,\n",
       "  0.12391448020935059,\n",
       "  0.42435460090637206,\n",
       "  0.944363784790039,\n",
       "  1.8252589225769043,\n",
       "  3.594857931137085,\n",
       "  5.746326875686646,\n",
       "  8.255272388458252,\n",
       "  13.348993301391602,\n",
       "  20.15464653968811],\n",
       " [],\n",
       " [0.3398937225341797,\n",
       "  2.172087812423706,\n",
       "  2.025699806213379,\n",
       "  0.7840696573257446,\n",
       "  1.0519804000854491,\n",
       "  1.6935673713684083,\n",
       "  2.1003701210021974,\n",
       "  1.5313533147176106,\n",
       "  4.4498039245605465,\n",
       "  1.3887039184570313])"
      ]
     },
     "execution_count": 8,
     "metadata": {},
     "output_type": "execute_result"
    }
   ],
   "source": [
    "default_time_list, IAAL_time_list, ADMM_time_list"
   ]
  },
  {
   "cell_type": "code",
   "execution_count": 9,
   "metadata": {},
   "outputs": [
    {
     "data": {
      "image/png": "[encoded data removed]",
      "text/plain": [
       "<matplotlib.figure.Figure at 0x115a9acc0>"
      ]
     },
     "metadata": {
      "needs_background": "light"
     },
     "output_type": "display_data"
    }
   ],
   "source": [
    "all_lists = [default_time_list, ADMM_time_list]\n",
    "x = n_range\n",
    "name = \"Runtime for different methods\"\n",
    "label_list = [\"cvxpy\", \"ADMM\"]\n",
    "plot_util(all_lists, x, name, label_list)"
   ]
  },
  {
   "cell_type": "code",
   "execution_count": 3,
   "metadata": {
    "scrolled": true
   },
   "outputs": [
    {
     "data": {
      "text/plain": [
       "([0.01665778160095215,\n",
       "  0.13747682571411132,\n",
       "  0.2997716426849365,\n",
       "  1.0830878257751464,\n",
       "  2.059067726135254,\n",
       "  3.8510679721832277,\n",
       "  5.826599645614624,\n",
       "  8.225278234481811,\n",
       "  14.136742544174194,\n",
       "  20.712745046615602],\n",
       " [0.27231392860412595,\n",
       "  5.017393398284912,\n",
       "  11.668120193481446,\n",
       "  26.66370234489441,\n",
       "  35.449979639053346,\n",
       "  48.912220525741574,\n",
       "  58.95455503463745,\n",
       "  68.73302416801452,\n",
       "  87.96985960006714,\n",
       "  106.08670024871826],\n",
       " [0.3883089542388916,\n",
       "  2.106606149673462,\n",
       "  1.680257511138916,\n",
       "  6.990504932403565,\n",
       "  1.2905801773071288,\n",
       "  1.703009843826294,\n",
       "  2.3210657596588136,\n",
       "  28.714737701416016,\n",
       "  4.701895904541016,\n",
       "  1.509003210067749])"
      ]
     },
     "execution_count": 3,
     "metadata": {},
     "output_type": "execute_result"
    }
   ],
   "source": [
    "default_time_list, IAAL_time_list, ADMM_time_list"
   ]
  },
  {
   "cell_type": "code",
   "execution_count": 9,
   "metadata": {},
   "outputs": [
    {
     "data": {
      "image/png": "[encoded data removed]",
      "text/plain": [
       "<matplotlib.figure.Figure at 0x11d42a828>"
      ]
     },
     "metadata": {
      "needs_background": "light"
     },
     "output_type": "display_data"
    }
   ],
   "source": [
    "all_lists = [default_time_list, ADMM_time_list]\n",
    "x = n_range\n",
    "name = \"Runtime for different methods\"\n",
    "label_list = [\"cvxpy\", \"ADMM\"]\n",
    "plot_util(all_lists, x, name, label_list)"
   ]
  },
  {
   "cell_type": "code",
   "execution_count": 7,
   "metadata": {
    "scrolled": true
   },
   "outputs": [
    {
     "name": "stdout",
     "output_type": "stream",
     "text": [
      "status: optimal, optimal value: -5121.257564136352\n",
      "0/20000.0\n",
      "10000/20000.0\n",
      "-5108.984471845698\n"
     ]
    }
   ],
   "source": [
    "primal_err_list, lambda_err_list, duality_gap_list, total_time, _ = sim_once(100, maxit=200, alpha=1e-4, strategy=\"IAAL\", \n",
    "                                                                          tol=3e-3)"
   ]
  },
  {
   "cell_type": "code",
   "execution_count": 15,
   "metadata": {},
   "outputs": [
    {
     "data": {
      "text/plain": [
       "51"
      ]
     },
     "execution_count": 15,
     "metadata": {},
     "output_type": "execute_result"
    }
   ],
   "source": [
    "len(lambda_err_list)"
   ]
  },
  {
   "cell_type": "code",
   "execution_count": 8,
   "metadata": {},
   "outputs": [
    {
     "data": {
      "image/png": "[encoded data removed]",
      "text/plain": [
       "<matplotlib.figure.Figure at 0x116921cf8>"
      ]
     },
     "metadata": {
      "needs_background": "light"
     },
     "output_type": "display_data"
    }
   ],
   "source": [
    "plot_error(primal_err_list)"
   ]
  },
  {
   "cell_type": "code",
   "execution_count": 9,
   "metadata": {},
   "outputs": [
    {
     "data": {
      "image/png": "[encoded data removed]",
      "text/plain": [
       "<matplotlib.figure.Figure at 0x11c114e80>"
      ]
     },
     "metadata": {
      "needs_background": "light"
     },
     "output_type": "display_data"
    }
   ],
   "source": [
    "plot_error(lambda_err_list)"
   ]
  },
  {
   "cell_type": "code",
   "execution_count": 10,
   "metadata": {},
   "outputs": [
    {
     "data": {
      "image/png": "[encoded data removed]",
      "text/plain": [
       "<matplotlib.figure.Figure at 0x11b8a71d0>"
      ]
     },
     "metadata": {
      "needs_background": "light"
     },
     "output_type": "display_data"
    }
   ],
   "source": [
    "plot_error(duality_gap_list)"
   ]
  },
  {
   "cell_type": "code",
   "execution_count": 43,
   "metadata": {
    "scrolled": true
   },
   "outputs": [
    {
     "data": {
      "text/plain": [
       "[2018.1642670716483,\n",
       " 73.84807995601307,\n",
       " 101.09985364934283,\n",
       " 98.2096780588261,\n",
       " 66.71535861021422,\n",
       " 17.29489668259208,\n",
       " 39.89118670326836]"
      ]
     },
     "execution_count": 43,
     "metadata": {},
     "output_type": "execute_result"
    }
   ],
   "source": [
    "duality_gap_list"
   ]
  },
  {
   "cell_type": "code",
   "execution_count": 3,
   "metadata": {},
   "outputs": [],
   "source": [
    "# initialization\n",
    "# we know the solution to this simple problem is x*=[100,0,...,0]\n",
    "n = 100\n",
    "c = np.array([[2.]] + [[1.] for i in range(n - 1)])\n",
    "M = np.array([[[1.]] for i in range(n)])\n",
    "A = np.array([[[1.]] for i in range(n)])\n",
    "d = np.array([float(n)])\n",
    "b = np.array([[float(n)] for i in range(n)])"
   ]
  },
  {
   "cell_type": "code",
   "execution_count": 4,
   "metadata": {
    "scrolled": true
   },
   "outputs": [
    {
     "name": "stdout",
     "output_type": "stream",
     "text": [
      "status: optimal, optimal value: -199.9999999994306\n",
      "[1.00000000e+02 6.19450217e-12 6.19450217e-12 6.19450217e-12\n",
      " 6.19450217e-12 6.19450217e-12 6.19450217e-12 6.19450217e-12\n",
      " 6.19450217e-12 6.19450217e-12 6.19450217e-12 6.19450217e-12\n",
      " 6.19450217e-12 6.19450217e-12 6.19450217e-12 6.19450217e-12\n",
      " 6.19450217e-12 6.19450217e-12 6.19450217e-12 6.19450217e-12\n",
      " 6.19450217e-12 6.19450217e-12 6.19450217e-12 6.19450217e-12\n",
      " 6.19450217e-12 6.19450217e-12 6.19450217e-12 6.19450217e-12\n",
      " 6.19450217e-12 6.19450217e-12 6.19450217e-12 6.19450217e-12\n",
      " 6.19450217e-12 6.19450217e-12 6.19450217e-12 6.19450217e-12\n",
      " 6.19450217e-12 6.19450217e-12 6.19450217e-12 6.19450217e-12\n",
      " 6.19450217e-12 6.19450217e-12 6.19450217e-12 6.19450217e-12\n",
      " 6.19450217e-12 6.19450217e-12 6.19450217e-12 6.19450217e-12\n",
      " 6.19450217e-12 6.19450217e-12 6.19450217e-12 6.19450217e-12\n",
      " 6.19450217e-12 6.19450217e-12 6.19450217e-12 6.19450217e-12\n",
      " 6.19450217e-12 6.19450217e-12 6.19450217e-12 6.19450217e-12\n",
      " 6.19450217e-12 6.19450217e-12 6.19450217e-12 6.19450217e-12\n",
      " 6.19450217e-12 6.19450217e-12 6.19450217e-12 6.19450217e-12\n",
      " 6.19450217e-12 6.19450217e-12 6.19450217e-12 6.19450217e-12\n",
      " 6.19450217e-12 6.19450217e-12 6.19450217e-12 6.19450217e-12\n",
      " 6.19450217e-12 6.19450217e-12 6.19450217e-12 6.19450217e-12\n",
      " 6.19450217e-12 6.19450217e-12 6.19450217e-12 6.19450217e-12\n",
      " 6.19450217e-12 6.19450217e-12 6.19450217e-12 6.19450217e-12\n",
      " 6.19450217e-12 6.19450217e-12 6.19450217e-12 6.19450217e-12\n",
      " 6.19450217e-12 6.19450217e-12 6.19450217e-12 6.19450217e-12\n",
      " 6.19450217e-12 6.19450217e-12 6.19450217e-12 6.19450217e-12]\n"
     ]
    }
   ],
   "source": [
    "# find the optimal solution using the blackbox solver\n",
    "# the sign of c is negated because we want to convert a max problem to an equivalent min one\n",
    "argmin_x, lambda_star, optimal_obj = primal_dual_solver(-c, M, A, d, b)\n",
    "print(argmin_x)"
   ]
  },
  {
   "cell_type": "code",
   "execution_count": 8,
   "metadata": {},
   "outputs": [
    {
     "ename": "AssertionError",
     "evalue": "dual optimal solution required",
     "output_type": "error",
     "traceback": [
      "\u001b[0;31m---------------------------------------------------------------------------\u001b[0m",
      "\u001b[0;31mAssertionError\u001b[0m                            Traceback (most recent call last)",
      "\u001b[0;32m<ipython-input-8-6bd645c810fc>\u001b[0m in \u001b[0;36m<module>\u001b[0;34m\u001b[0m\n\u001b[1;32m      5\u001b[0m                                 \u001b[0mascent_type\u001b[0m\u001b[0;34m=\u001b[0m\u001b[0;34m\"vr\"\u001b[0m\u001b[0;34m,\u001b[0m\u001b[0;34m\u001b[0m\u001b[0m\n\u001b[1;32m      6\u001b[0m                                 \u001b[0mis_rep\u001b[0m\u001b[0;34m=\u001b[0m\u001b[0;32mFalse\u001b[0m\u001b[0;34m,\u001b[0m \u001b[0mis_cyc\u001b[0m\u001b[0;34m=\u001b[0m\u001b[0;32mFalse\u001b[0m\u001b[0;34m,\u001b[0m\u001b[0;34m\u001b[0m\u001b[0m\n\u001b[0;32m----> 7\u001b[0;31m                                 optimal_obj=optimal_obj, is_tracking=True)\n\u001b[0m\u001b[1;32m      8\u001b[0m \u001b[0mprint\u001b[0m\u001b[0;34m(\u001b[0m\u001b[0mrs\u001b[0m\u001b[0;34m)\u001b[0m\u001b[0;34m\u001b[0m\u001b[0m\n",
      "\u001b[0;32m~/rips/solver.py\u001b[0m in \u001b[0;36mgeneral_st_sampling_solver\u001b[0;34m(c, M, A, d, b, epoch, batch_size, alpha, decay, decay_func, augmented, rho, prox_type, ascent_type, vr_m_order, err_list, lambd_list, time_hist, lambda_err_list, duality_gap_list, is_rep, is_cyc, answer, tol, optimal_obj, lambda_star, max_check, use_seed, is_tracking)\u001b[0m\n\u001b[1;32m    129\u001b[0m     \u001b[0;32massert\u001b[0m \u001b[0moptimal_obj\u001b[0m \u001b[0;34m!=\u001b[0m \u001b[0;34m-\u001b[0m\u001b[0;36m1\u001b[0m\u001b[0;34m,\u001b[0m \u001b[0;34m\"need optimal_obj as stopping criterion\"\u001b[0m\u001b[0;34m\u001b[0m\u001b[0m\n\u001b[1;32m    130\u001b[0m     \u001b[0;32mif\u001b[0m \u001b[0mis_tracking\u001b[0m\u001b[0;34m:\u001b[0m\u001b[0;34m\u001b[0m\u001b[0m\n\u001b[0;32m--> 131\u001b[0;31m         \u001b[0;32massert\u001b[0m \u001b[0mlen\u001b[0m\u001b[0;34m(\u001b[0m\u001b[0mlambda_star\u001b[0m\u001b[0;34m)\u001b[0m \u001b[0;34m>\u001b[0m \u001b[0;36m0\u001b[0m\u001b[0;34m,\u001b[0m \u001b[0;34m\"dual optimal solution required\"\u001b[0m\u001b[0;34m\u001b[0m\u001b[0m\n\u001b[0m\u001b[1;32m    132\u001b[0m \u001b[0;34m\u001b[0m\u001b[0m\n\u001b[1;32m    133\u001b[0m     \u001b[0;31m# initialize lambda and argmin_x\u001b[0m\u001b[0;34m\u001b[0m\u001b[0;34m\u001b[0m\u001b[0m\n",
      "\u001b[0;31mAssertionError\u001b[0m: dual optimal solution required"
     ]
    }
   ],
   "source": [
    "# find the solution to the same problem using our solver\n",
    "# the optimal_obj, which is the optimal value of the objective function, needs to be passed in as a stopping criterion\n",
    "rs = general_st_sampling_solver(c, M, A, d, b, epoch=50, batch_size=1, alpha=1e-3,\n",
    "                                augmented=True, prox_type=\"ADMM\",\n",
    "                                ascent_type=\"vr\",\n",
    "                                is_rep=False, is_cyc=False,\n",
    "                                optimal_obj=optimal_obj, is_tracking=True)\n",
    "print(rs)"
   ]
  },
  {
   "cell_type": "code",
   "execution_count": null,
   "metadata": {},
   "outputs": [],
   "source": []
  }
 ],
 "metadata": {
  "kernelspec": {
   "display_name": "Python 3",
   "language": "python",
   "name": "python3"
  },
  "language_info": {
   "codemirror_mode": {
    "name": "ipython",
    "version": 3
   },
   "file_extension": ".py",
   "mimetype": "text/x-python",
   "name": "python",
   "nbconvert_exporter": "python",
   "pygments_lexer": "ipython3",
   "version": "3.6.4"
  }
 },
 "nbformat": 4,
 "nbformat_minor": 2
}
